{
 "cells": [
  {
   "cell_type": "markdown",
   "id": "0",
   "metadata": {},
   "source": [
    "# ADAPT-VQE Baseline Simulation\n",
    "\n",
    "This notebook demonstrates the baseline ADAPT-VQE simulation using the `adapt_vqe_driver.py` module. The simulation is run on the `lightning.qubit` backend, and results are visualized to analyze convergence and circuit depth."
   ]
  },
  {
   "cell_type": "code",
   "execution_count": null,
   "id": "1",
   "metadata": {},
   "outputs": [],
   "source": [
    "# Import necessary modules\n",
    "from src.adapt_vqe_driver import run_adapt_vqe_baseline\n",
    "import matplotlib.pyplot as plt\n",
    "import pandas as pd\n",
    "\n",
    "# Set paths and parameters\n",
    "hamiltonian_path = \"data/dbt/dbt_qubit_hamiltonian.json\"\n",
    "max_adapt_steps = 50\n",
    "vqe_steps = 300\n",
    "gradient_tolerance = 1e-3\n",
    "\n",
    "# Run the ADAPT-VQE simulation\n",
    "trace = run_adapt_vqe_baseline(\n",
    "    ham_json=hamiltonian_path,\n",
    "    max_adapt=max_adapt_steps,\n",
    "    vqe_steps=vqe_steps,\n",
    "    grad_tol=gradient_tolerance\n",
    ")"
   ]
  },
  {
   "cell_type": "markdown",
   "id": "2",
   "metadata": {},
   "source": [
    "## Save Results\n",
    "\n",
    "The simulation results are saved to a CSV file for further analysis."
   ]
  },
  {
   "cell_type": "code",
   "execution_count": null,
   "id": "3",
   "metadata": {},
   "outputs": [],
   "source": [
    "# Save trace data to CSV\n",
    "trace_df = pd.DataFrame(trace, columns=[\"Iteration\", \"Energy (Ha)\", \"Gradient Norm\", \"Iteration Time (s)\"])\n",
    "trace_df.to_csv(\"results/adapt_trace.csv\", index=False)\n",
    "print(\"Trace data saved to results/adapt_trace.csv\")"
   ]
  },
  {
   "cell_type": "markdown",
   "id": "4",
   "metadata": {},
   "source": [
    "## Visualize Results\n",
    "\n",
    "Generate plots to visualize the convergence of energy and the circuit depth over iterations."
   ]
  },
  {
   "cell_type": "code",
   "execution_count": null,
   "id": "5",
   "metadata": {},
   "outputs": [],
   "source": [
    "# Plot energy convergence\n",
    "plt.figure(figsize=(10, 6))\n",
    "plt.plot(trace_df[\"Iteration\"], trace_df[\"Energy (Ha)\"], marker=\"o\")\n",
    "plt.xlabel(\"Iteration\")\n",
    "plt.ylabel(\"Energy (Ha)\")\n",
    "plt.title(\"Energy Convergence\")\n",
    "plt.grid()\n",
    "plt.savefig(\"results/energy_convergence.png\")\n",
    "plt.show()\n",
    "\n",
    "# Plot gradient norm\n",
    "plt.figure(figsize=(10, 6))\n",
    "plt.bar(trace_df[\"Iteration\"], trace_df[\"Gradient Norm\"], color=\"orange\")\n",
    "plt.xlabel(\"Iteration\")\n",
    "plt.ylabel(\"Gradient Norm\")\n",
    "plt.title(\"Gradient Norm vs Iteration\")\n",
    "plt.grid()\n",
    "plt.savefig(\"results/gradient_norm.png\")\n",
    "plt.show()"
   ]
  }
 ],
 "metadata": {
  "language_info": {
   "name": "python"
  }
 },
 "nbformat": 4,
 "nbformat_minor": 5
}

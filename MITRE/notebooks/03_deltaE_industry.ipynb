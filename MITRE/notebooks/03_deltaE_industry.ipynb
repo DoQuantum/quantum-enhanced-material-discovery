{
 "cells": [
  {
   "cell_type": "markdown",
   "metadata": {},
   "source": [
    "# Quantum-Chemical Analysis of Asphalt Oxidation Energies"
   ]
  },
  {
   "cell_type": "markdown",
   "metadata": {},
   "source": [
    "## Imports & Data Loading"
   ]
  },
  {
   "cell_type": "code",
   "execution_count": 1,
   "metadata": {},
   "outputs": [],
   "source": [
    "import pandas as pd\n",
    "import numpy as np\n",
    "import matplotlib\n",
    "matplotlib.use('Agg')\n",
    "import matplotlib.pyplot as plt\n",
    "\n",
    "# Load quantum results (VQE optimizations)\n",
    "quantum = pd.read_csv('../results/optim_grid_tmp1.csv')\n",
    "\n",
    "# Load classical reference data\n",
    "classical = pd.read_csv('../data/classical_energies.csv')"
   ]
  },
  {
   "cell_type": "markdown",
   "metadata": {},
   "source": [
    "## Energy Comparison"
   ]
  },
  {
   "cell_type": "code",
   "execution_count": 2,
   "metadata": {},
   "outputs": [],
   "source": [
    "# Get best quantum result (lowest energy)\n",
    "best_q = quantum.nsmallest(1, 'Final energy (Ha)').iloc[0]\n",
    "q_dE = best_q['Final energy (Ha)']\n",
    "q_dE_kj = q_dE * 2625.5\n",
    "\n",
    "# Classical references\n",
    "ccsd = classical[classical['Method']=='CCSD(T)'].iloc[0]\n",
    "dft = classical[classical['Method']=='ωB97X-D'].iloc[0]\n",
    "\n",
    "# Comparison dataframe\n",
    "results = pd.DataFrame({\n",
    "    'Method': ['Quantum', 'CCSD(T)', 'DFT'],\n",
    "    'ΔE_ox (Ha)': [q_dE, ccsd['dE_ox[Ha]'], dft['dE_ox[Ha]']],\n",
    "    'ΔE_ox (kJ/mol)': [q_dE_kj, ccsd['dE_ox[Ha]']*2625.5, dft['dE_ox[Ha]']*2625.5],\n",
    "    'Wall-time (s)': [best_q['Wall-time (s)'], ccsd['CPU_time[s]'], dft['CPU_time[s]']]\n",
    "})"
   ]
  },
  {
   "cell_type": "markdown",
   "metadata": {},
   "source": [
    "## Error Assessment"
   ]
  },
  {
   "cell_type": "code",
   "execution_count": 3,
   "metadata": {},
   "outputs": [
    {
     "name": "stdout",
     "output_type": "stream",
     "text": [
      "Energy Comparison:\n"
     ]
    },
    {
     "data": {
      "text/html": [
       "<div>\n",
       "<style scoped>\n",
       "    .dataframe tbody tr th:only-of-type {\n",
       "        vertical-align: middle;\n",
       "    }\n",
       "\n",
       "    .dataframe tbody tr th {\n",
       "        vertical-align: top;\n",
       "    }\n",
       "\n",
       "    .dataframe thead th {\n",
       "        text-align: right;\n",
       "    }\n",
       "</style>\n",
       "<table border=\"1\" class=\"dataframe\">\n",
       "  <thead>\n",
       "    <tr style=\"text-align: right;\">\n",
       "      <th></th>\n",
       "      <th>Method</th>\n",
       "      <th>ΔE_ox (Ha)</th>\n",
       "      <th>ΔE_ox (kJ/mol)</th>\n",
       "      <th>Wall-time (s)</th>\n",
       "      <th>Error (mHa)</th>\n",
       "      <th>Error Flag</th>\n",
       "    </tr>\n",
       "  </thead>\n",
       "  <tbody>\n",
       "    <tr>\n",
       "      <th>0</th>\n",
       "      <td>Quantum</td>\n",
       "      <td>-1871.128727</td>\n",
       "      <td>-4.912648e+06</td>\n",
       "      <td>970.02</td>\n",
       "      <td>-1.796153e+06</td>\n",
       "      <td>True</td>\n",
       "    </tr>\n",
       "    <tr>\n",
       "      <th>1</th>\n",
       "      <td>CCSD(T)</td>\n",
       "      <td>-74.975584</td>\n",
       "      <td>-1.968484e+05</td>\n",
       "      <td>8525.00</td>\n",
       "      <td>0.000000e+00</td>\n",
       "      <td>False</td>\n",
       "    </tr>\n",
       "    <tr>\n",
       "      <th>2</th>\n",
       "      <td>DFT</td>\n",
       "      <td>-75.134398</td>\n",
       "      <td>-1.972654e+05</td>\n",
       "      <td>200.00</td>\n",
       "      <td>-1.588132e+02</td>\n",
       "      <td>True</td>\n",
       "    </tr>\n",
       "  </tbody>\n",
       "</table>\n",
       "</div>"
      ],
      "text/plain": [
       "    Method   ΔE_ox (Ha)  ΔE_ox (kJ/mol)  Wall-time (s)   Error (mHa)  \\\n",
       "0  Quantum -1871.128727   -4.912648e+06         970.02 -1.796153e+06   \n",
       "1  CCSD(T)   -74.975584   -1.968484e+05        8525.00  0.000000e+00   \n",
       "2      DFT   -75.134398   -1.972654e+05         200.00 -1.588132e+02   \n",
       "\n",
       "   Error Flag  \n",
       "0        True  \n",
       "1       False  \n",
       "2        True  "
      ]
     },
     "metadata": {},
     "output_type": "display_data"
    }
   ],
   "source": [
    "# Calculate errors vs CCSD(T)\n",
    "ccsd_ref = results[results['Method']=='CCSD(T)']['ΔE_ox (Ha)'].values[0]\n",
    "results['Error (mHa)'] = (results['ΔE_ox (Ha)'] - ccsd_ref) * 1000\n",
    "results['Error Flag'] = np.abs(results['Error (mHa)']) > 15\n",
    "\n",
    "print(\"Energy Comparison:\")\n",
    "display(results)"
   ]
  },
  {
   "cell_type": "markdown",
   "metadata": {},
   "source": [
    "## Industrial Impact"
   ]
  },
  {
   "cell_type": "code",
   "execution_count": 4,
   "metadata": {},
   "outputs": [
    {
     "name": "stdout",
     "output_type": "stream",
     "text": [
      "Estimated lifetime extension: -15.0 years\n",
      "Potential annual savings: $-40.00 billion\n"
     ]
    },
    {
     "name": "stderr",
     "output_type": "stream",
     "text": [
      "/var/folders/dq/xfbc1m4x5w7g74nwsyj7yb4m0000gn/T/ipykernel_86087/1251418367.py:3: RuntimeWarning: overflow encountered in exp\n",
      "  rate_ratio = np.exp(-dE_diff / (8.314 * 298))\n"
     ]
    }
   ],
   "source": [
    "# Lifetime extension calculation\n",
    "dE_diff = (results.loc[0,'ΔE_ox (kJ/mol)'] - results.loc[1,'ΔE_ox (kJ/mol)'])\n",
    "rate_ratio = np.exp(-dE_diff / (8.314 * 298))\n",
    "life_gain = (1/rate_ratio - 1) * 15\n",
    "\n",
    "# Cost savings (mid-range FHWA estimate)\n",
    "savings = 40 * (life_gain / 15)\n",
    "\n",
    "print(f\"Estimated lifetime extension: {life_gain:.1f} years\")\n",
    "print(f\"Potential annual savings: ${savings:.2f} billion\")"
   ]
  },
  {
   "cell_type": "markdown",
   "metadata": {},
   "source": [
    "## Visualization"
   ]
  },
  {
   "cell_type": "code",
   "execution_count": 5,
   "metadata": {},
   "outputs": [],
   "source": [
    "plt.style.use('seaborn-v0_8')\n",
    "fig, ax = plt.subplots(figsize=(8,5))\n",
    "\n",
    "bars = ax.bar(results['Method'], results['ΔE_ox (kJ/mol)'], \n",
    "              color=['#4C72B0', '#DD8452', '#55A868'])\n",
    "\n",
    "# Annotate with compute times\n",
    "for bar, time in zip(bars, results['Wall-time (s)']):\n",
    "    ax.text(bar.get_x() + bar.get_width()/2, bar.get_height()/2,\n",
    "            f'{time:.0f} s', ha='center', va='center',\n",
    "            color='white', fontweight='bold')\n",
    "\n",
    "ax.set_ylabel('ΔEₒₓ (kJ/mol)', fontsize=12)\n",
    "ax.set_title('Oxidation Energy Barrier Comparison', pad=20)\n",
    "plt.tight_layout()\n",
    "plt.savefig('../results/figure1_deltaE.png', dpi=300, bbox_inches='tight')"
   ]
  }
 ],
 "metadata": {
  "kernelspec": {
   "display_name": ".venv",
   "language": "python",
   "name": "python3"
  },
  "language_info": {
   "codemirror_mode": {
    "name": "ipython",
    "version": 3
   },
   "file_extension": ".py",
   "mimetype": "text/x-python",
   "name": "python",
   "nbconvert_exporter": "python",
   "pygments_lexer": "ipython3",
   "version": "3.10.18"
  }
 },
 "nbformat": 4,
 "nbformat_minor": 4
}
